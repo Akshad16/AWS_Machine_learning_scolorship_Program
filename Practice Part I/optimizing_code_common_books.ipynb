{
  "nbformat": 4,
  "nbformat_minor": 0,
  "metadata": {
    "colab": {
      "name": "optimizing_code_common_books.ipynb",
      "provenance": [],
      "authorship_tag": "ABX9TyPNKisCsINh9mU+Lj5fYjrp",
      "include_colab_link": true
    },
    "kernelspec": {
      "name": "python3",
      "display_name": "Python 3"
    },
    "language_info": {
      "name": "python"
    }
  },
  "cells": [
    {
      "cell_type": "markdown",
      "metadata": {
        "id": "view-in-github",
        "colab_type": "text"
      },
      "source": [
        "<a href=\"https://colab.research.google.com/github/Akshad16/AWS_Machine_learning_scolorship_Program/blob/main/optimizing_code_common_books.ipynb\" target=\"_parent\"><img src=\"https://colab.research.google.com/assets/colab-badge.svg\" alt=\"Open In Colab\"/></a>"
      ]
    },
    {
      "cell_type": "code",
      "metadata": {
        "id": "hGV9eoKy6I0E"
      },
      "source": [
        "import time\n",
        "import pandas as pd\n",
        "import numpy as np\n"
      ],
      "execution_count": null,
      "outputs": []
    },
    {
      "cell_type": "code",
      "metadata": {
        "id": "Uym6elwQ7LQt"
      },
      "source": [
        "with open('/optimizing-code-common-books.ipynb.txt') as f:\n",
        "  recent_books = f.read().split('\\n')"
      ],
      "execution_count": null,
      "outputs": []
    },
    {
      "cell_type": "code",
      "metadata": {
        "id": "3NcVRGHG8Cef"
      },
      "source": [
        "with open('/all-coding-books.txt')as f:\n",
        "  coding_books = f.read().split(\"\\n\")"
      ],
      "execution_count": null,
      "outputs": []
    },
    {
      "cell_type": "code",
      "metadata": {
        "id": "t7pxh4k58Qax"
      },
      "source": [
        "start = time.time()\n",
        "recent_coding_books =[]"
      ],
      "execution_count": null,
      "outputs": []
    },
    {
      "cell_type": "code",
      "metadata": {
        "id": "NUu2seB781i-"
      },
      "source": [
        "for book in recent_books:\n",
        "  if book in coding_books:\n",
        "    recent_coding_books.append(book)"
      ],
      "execution_count": null,
      "outputs": []
    },
    {
      "cell_type": "code",
      "metadata": {
        "colab": {
          "base_uri": "https://localhost:8080/"
        },
        "id": "ofewYBHu9EPY",
        "outputId": "f8268c93-df32-4df2-cd89-4c3d22f55657"
      },
      "source": [
        "print(len(recent_coding_books))\n",
        "print('Duration: {} seconds'.format(time.time() - start))"
      ],
      "execution_count": null,
      "outputs": [
        {
          "output_type": "stream",
          "name": "stdout",
          "text": [
            "0\n",
            "Duration: 185.20826530456543 seconds\n"
          ]
        }
      ]
    },
    {
      "cell_type": "code",
      "metadata": {
        "colab": {
          "base_uri": "https://localhost:8080/"
        },
        "id": "D0VgO2dO9pR2",
        "outputId": "50aa74b7-03b1-4d83-9659-69ec965b848b"
      },
      "source": [
        "# Tip #1: Use vector operations over loops when possible\n",
        "\n",
        "start = time.time()\n",
        "recent_coding_books = np.intersect1d(recent_books, coding_books)\n",
        "print(len(recent_coding_books))\n",
        "print('Duration: {} seconds'.format(time.time() - start))\n"
      ],
      "execution_count": null,
      "outputs": [
        {
          "output_type": "stream",
          "name": "stdout",
          "text": [
            "0\n",
            "Duration: 0.028348445892333984 seconds\n"
          ]
        }
      ]
    },
    {
      "cell_type": "code",
      "metadata": {
        "id": "LJ3F0Ypt9u9I",
        "colab": {
          "base_uri": "https://localhost:8080/"
        },
        "outputId": "e277c2c4-81ce-4ab6-b25b-2655bdf6769b"
      },
      "source": [
        "# Tip #2: Know your data structures and which methods are faster\n",
        "\n",
        "start = time.time()\n",
        "recent_coding_books = set(recent_books).intersection(coding_books)\n",
        "print(len(recent_coding_books))\n",
        "print('Duration: {} seconds'.format(time.time() - start))"
      ],
      "execution_count": null,
      "outputs": [
        {
          "output_type": "stream",
          "name": "stdout",
          "text": [
            "0\n",
            "Duration: 0.001668691635131836 seconds\n"
          ]
        }
      ]
    }
  ]
}